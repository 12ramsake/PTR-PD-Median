{
 "cells": [
  {
   "cell_type": "code",
   "execution_count": 1,
   "id": "0cba2336",
   "metadata": {},
   "outputs": [
    {
     "name": "stderr",
     "output_type": "stream",
     "text": [
      "C:\\Users\\12RAM\\AppData\\Local\\Temp\\ipykernel_22616\\2537152353.py:14: MatplotlibDeprecationWarning: The get_cmap function was deprecated in Matplotlib 3.7 and will be removed two minor releases later. Use ``matplotlib.colormaps[name]`` or ``matplotlib.colormaps.get_cmap(obj)`` instead.\n",
      "  viridis = cm.get_cmap('viridis', 8)\n"
     ]
    }
   ],
   "source": [
    "import numpy as np\n",
    "from mtalg.random import MultithreadedRNG\n",
    "import pickle\n",
    "from tqdm import tqdm\n",
    "# import cupy as cp\n",
    "import seaborn as sns\n",
    "from scipy.stats import multivariate_t\n",
    "from scipy.stats import trim_mean\n",
    "import pandas as pd\n",
    "import torch\n",
    "import matplotlib.pyplot as plt\n",
    "from matplotlib import cm\n",
    "import Other_Mean_Algs as OMA\n",
    "viridis = cm.get_cmap('viridis', 8)\n",
    "import PD_Median_Functions_opt_for_sims"
   ]
  },
  {
   "cell_type": "code",
   "execution_count": 2,
   "id": "43ca1cf9",
   "metadata": {},
   "outputs": [],
   "source": [
    "#Number of runs in the experiment\n",
    "num_runs=50\n",
    "#sample size\n",
    "ndata=50000"
   ]
  },
  {
   "cell_type": "code",
   "execution_count": 3,
   "id": "1ecab274",
   "metadata": {},
   "outputs": [
    {
     "name": "stdout",
     "output_type": "stream",
     "text": [
      "(26350.290737205825, 0.007311891298741102)\n",
      "(26350.290737205825, 0.0077616325579583645)\n"
     ]
    }
   ],
   "source": [
    "def experiment(run_number,d,ndata,data_type,rho):\n",
    "        # only use 1 thread because we are on the gpu\n",
    "    # mrng = MultithreadedRNG(seed=run_number, num_threads=1)\n",
    "    ####################################################################\n",
    "    # load in data, unit vectors and starting value\n",
    "    with open(\"data/data_set_\"+data_type+\"_\"+str(run_number)+\".pickle\",'rb') as file:\n",
    "        data=pickle.load(file)\n",
    "    data=data[0:ndata,0:d].copy()\n",
    "    sm=np.mean(data.copy(),axis=0)\n",
    "    # print(sm.shape)\n",
    "    npm=np.linalg.norm(sm)**2\n",
    "    # Make torch for coinpress\n",
    "    X=torch.tensor(data.copy()).float()\n",
    "    # cp_mean= OMA.COINPRESS(X,ndata,d,rho,torch.full((1,d),5),1000*np.sqrt(d),1000*np.sqrt(d))[0]\n",
    "    cp_mean= OMA.COINPRESS(X,ndata,d,rho,torch.full((1,d),3),1000,10000)[0]\n",
    "    # print(cp_mean)\n",
    "    prm=torch.linalg.norm(cp_mean)**2\n",
    "    return npm,prm.item()\n",
    "# print(experiment(1,10,ndata,'con',1))\n",
    "print(experiment(1,10,ndata,'heavy',20))\n",
    "print(experiment(3,10,ndata,'heavy',20))\n",
    "# print(experiment(1,2,ndata,'con',3))"
   ]
  },
  {
   "cell_type": "code",
   "execution_count": 4,
   "id": "2b522bc0",
   "metadata": {},
   "outputs": [
    {
     "name": "stderr",
     "output_type": "stream",
     "text": [
      "100%|██████████| 50/50 [00:00<00:00, 65.88it/s]\n"
     ]
    },
    {
     "name": "stdout",
     "output_type": "stream",
     "text": [
      "dist  clean , d 2 , rho,  0.13545 , mean  4.8721888135298096e-05   0.0001163774260653838\n"
     ]
    },
    {
     "name": "stderr",
     "output_type": "stream",
     "text": [
      "100%|██████████| 50/50 [00:00<00:00, 114.17it/s]\n"
     ]
    },
    {
     "name": "stdout",
     "output_type": "stream",
     "text": [
      "dist  clean , d 2 , rho,  0.666457 , mean  4.8721888135298096e-05   4.8437766487836604e-05\n"
     ]
    },
    {
     "name": "stderr",
     "output_type": "stream",
     "text": [
      "100%|██████████| 50/50 [00:00<00:00, 116.21it/s]\n"
     ]
    },
    {
     "name": "stdout",
     "output_type": "stream",
     "text": [
      "dist  clean , d 2 , rho,  2.09802 , mean  4.8721888135298096e-05   4.87327421876671e-05\n"
     ]
    },
    {
     "name": "stderr",
     "output_type": "stream",
     "text": [
      "100%|██████████| 50/50 [00:00<00:00, 87.02it/s]\n"
     ]
    },
    {
     "name": "stdout",
     "output_type": "stream",
     "text": [
      "dist  clean , d 10 , rho,  0.13545 , mean  0.00021113304404094994   0.02061668994472712\n"
     ]
    },
    {
     "name": "stderr",
     "output_type": "stream",
     "text": [
      "100%|██████████| 50/50 [00:00<00:00, 83.38it/s]\n"
     ]
    },
    {
     "name": "stdout",
     "output_type": "stream",
     "text": [
      "dist  clean , d 10 , rho,  0.666457 , mean  0.00021113304404094994   0.0010564009079826065\n"
     ]
    },
    {
     "name": "stderr",
     "output_type": "stream",
     "text": [
      "100%|██████████| 50/50 [00:00<00:00, 82.45it/s]\n"
     ]
    },
    {
     "name": "stdout",
     "output_type": "stream",
     "text": [
      "dist  clean , d 10 , rho,  2.09802 , mean  0.00021113304404094994   0.0009851275140681539\n"
     ]
    },
    {
     "name": "stderr",
     "output_type": "stream",
     "text": [
      "100%|██████████| 50/50 [00:00<00:00, 63.79it/s]\n"
     ]
    },
    {
     "name": "stdout",
     "output_type": "stream",
     "text": [
      "dist  clean , d 20 , rho,  0.13545 , mean  0.0004092509069922288   0.0033607914007734506\n"
     ]
    },
    {
     "name": "stderr",
     "output_type": "stream",
     "text": [
      "100%|██████████| 50/50 [00:00<00:00, 61.91it/s]\n"
     ]
    },
    {
     "name": "stdout",
     "output_type": "stream",
     "text": [
      "dist  clean , d 20 , rho,  0.666457 , mean  0.0004092509069922288   0.0011820705633726902\n"
     ]
    },
    {
     "name": "stderr",
     "output_type": "stream",
     "text": [
      "100%|██████████| 50/50 [00:00<00:00, 61.03it/s]\n"
     ]
    },
    {
     "name": "stdout",
     "output_type": "stream",
     "text": [
      "dist  clean , d 20 , rho,  2.09802 , mean  0.0004092509069922288   0.000838019961374812\n"
     ]
    },
    {
     "name": "stderr",
     "output_type": "stream",
     "text": [
      "100%|██████████| 50/50 [00:00<00:00, 62.58it/s]\n"
     ]
    },
    {
     "name": "stdout",
     "output_type": "stream",
     "text": [
      "dist  con , d 2 , rho,  0.13545 , mean  3.1218597726286994   2.181253776550293\n"
     ]
    },
    {
     "name": "stderr",
     "output_type": "stream",
     "text": [
      "100%|██████████| 50/50 [00:00<00:00, 106.49it/s]\n"
     ]
    },
    {
     "name": "stdout",
     "output_type": "stream",
     "text": [
      "dist  con , d 2 , rho,  0.666457 , mean  3.1218597726286994   2.144789516925812\n"
     ]
    },
    {
     "name": "stderr",
     "output_type": "stream",
     "text": [
      "100%|██████████| 50/50 [00:00<00:00, 104.15it/s]\n"
     ]
    },
    {
     "name": "stdout",
     "output_type": "stream",
     "text": [
      "dist  con , d 2 , rho,  2.09802 , mean  3.1218597726286994   2.0494064855575562\n"
     ]
    },
    {
     "name": "stderr",
     "output_type": "stream",
     "text": [
      "100%|██████████| 50/50 [00:00<00:00, 79.08it/s]\n"
     ]
    },
    {
     "name": "stdout",
     "output_type": "stream",
     "text": [
      "dist  con , d 10 , rho,  0.13545 , mean  15.621810308498688   14.71409718513489\n"
     ]
    },
    {
     "name": "stderr",
     "output_type": "stream",
     "text": [
      "100%|██████████| 50/50 [00:00<00:00, 72.52it/s]\n"
     ]
    },
    {
     "name": "stdout",
     "output_type": "stream",
     "text": [
      "dist  con , d 10 , rho,  0.666457 , mean  15.621810308498688   7.948424348831177\n"
     ]
    },
    {
     "name": "stderr",
     "output_type": "stream",
     "text": [
      "100%|██████████| 50/50 [00:00<00:00, 70.81it/s]\n"
     ]
    },
    {
     "name": "stdout",
     "output_type": "stream",
     "text": [
      "dist  con , d 10 , rho,  2.09802 , mean  15.621810308498688   7.611875047683717\n"
     ]
    },
    {
     "name": "stderr",
     "output_type": "stream",
     "text": [
      "100%|██████████| 50/50 [00:00<00:00, 58.44it/s]\n"
     ]
    },
    {
     "name": "stdout",
     "output_type": "stream",
     "text": [
      "dist  con , d 20 , rho,  0.13545 , mean  31.238710780234644   30.745119590759273\n"
     ]
    },
    {
     "name": "stderr",
     "output_type": "stream",
     "text": [
      "100%|██████████| 50/50 [00:00<00:00, 55.74it/s]\n"
     ]
    },
    {
     "name": "stdout",
     "output_type": "stream",
     "text": [
      "dist  con , d 20 , rho,  0.666457 , mean  31.238710780234644   26.356379261016844\n"
     ]
    },
    {
     "name": "stderr",
     "output_type": "stream",
     "text": [
      "100%|██████████| 50/50 [00:00<00:00, 53.76it/s]\n"
     ]
    },
    {
     "name": "stdout",
     "output_type": "stream",
     "text": [
      "dist  con , d 20 , rho,  2.09802 , mean  31.238710780234644   14.252210655212394\n"
     ]
    },
    {
     "name": "stderr",
     "output_type": "stream",
     "text": [
      "100%|██████████| 50/50 [00:00<00:00, 57.43it/s]\n"
     ]
    },
    {
     "name": "stdout",
     "output_type": "stream",
     "text": [
      "dist  heavy , d 2 , rho,  0.13545 , mean  951.8062502185799   0.010171769603621213\n"
     ]
    },
    {
     "name": "stderr",
     "output_type": "stream",
     "text": [
      "100%|██████████| 50/50 [00:00<00:00, 101.43it/s]\n"
     ]
    },
    {
     "name": "stdout",
     "output_type": "stream",
     "text": [
      "dist  heavy , d 2 , rho,  0.666457 , mean  951.8062502185799   0.004200892495500739\n"
     ]
    },
    {
     "name": "stderr",
     "output_type": "stream",
     "text": [
      "100%|██████████| 50/50 [00:00<00:00, 103.19it/s]\n"
     ]
    },
    {
     "name": "stdout",
     "output_type": "stream",
     "text": [
      "dist  heavy , d 2 , rho,  2.09802 , mean  951.8062502185799   0.0037391771539114424\n"
     ]
    },
    {
     "name": "stderr",
     "output_type": "stream",
     "text": [
      "100%|██████████| 50/50 [00:00<00:00, 69.80it/s]\n"
     ]
    },
    {
     "name": "stdout",
     "output_type": "stream",
     "text": [
      "dist  heavy , d 10 , rho,  0.13545 , mean  26350.290737205807   0.038499945607036345\n"
     ]
    },
    {
     "name": "stderr",
     "output_type": "stream",
     "text": [
      "100%|██████████| 50/50 [00:00<00:00, 71.67it/s]\n"
     ]
    },
    {
     "name": "stdout",
     "output_type": "stream",
     "text": [
      "dist  heavy , d 10 , rho,  0.666457 , mean  26350.290737205807   0.016313314670696855\n"
     ]
    },
    {
     "name": "stderr",
     "output_type": "stream",
     "text": [
      "100%|██████████| 50/50 [00:00<00:00, 73.07it/s]\n"
     ]
    },
    {
     "name": "stdout",
     "output_type": "stream",
     "text": [
      "dist  heavy , d 10 , rho,  2.09802 , mean  26350.290737205807   0.01092124280519784\n"
     ]
    },
    {
     "name": "stderr",
     "output_type": "stream",
     "text": [
      "100%|██████████| 50/50 [00:00<00:00, 51.89it/s]\n"
     ]
    },
    {
     "name": "stdout",
     "output_type": "stream",
     "text": [
      "dist  heavy , d 20 , rho,  0.13545 , mean  49906.23383298141   1.3751029746234418\n"
     ]
    },
    {
     "name": "stderr",
     "output_type": "stream",
     "text": [
      "100%|██████████| 50/50 [00:00<00:00, 53.57it/s]\n"
     ]
    },
    {
     "name": "stdout",
     "output_type": "stream",
     "text": [
      "dist  heavy , d 20 , rho,  0.666457 , mean  49906.23383298141   0.03313459254801273\n"
     ]
    },
    {
     "name": "stderr",
     "output_type": "stream",
     "text": [
      "100%|██████████| 50/50 [00:00<00:00, 52.89it/s]"
     ]
    },
    {
     "name": "stdout",
     "output_type": "stream",
     "text": [
      "dist  heavy , d 20 , rho,  2.09802 , mean  49906.23383298141   0.019199602007865902\n"
     ]
    },
    {
     "name": "stderr",
     "output_type": "stream",
     "text": [
      "\n"
     ]
    }
   ],
   "source": [
    "# d=2\n",
    "rhos=[0.135450,0.666457,2.09802]\n",
    "ds=[2,10,20]\n",
    "dts=['clean','con','heavy']\n",
    "\n",
    "\n",
    "\n",
    "t_cp={'MSE': np.nan, 'Estimator':'Priv. Mean', r'$\\rho$':2,'Dist':'2',r'$d$':2}\n",
    "t_npmean={'MSE': np.nan, 'Estimator':'Non-Priv. Mean', r'$\\rho$':2,'Dist':'2',r'$d$':2}\n",
    "rows=[]\n",
    "results1=[]\n",
    "results2=[]\n",
    "for dt in dts:\n",
    "    t_cp['Dist']=t_npmean['Dist']=dt\n",
    "    for d in ds:\n",
    "        t_cp[r'$d$']=t_npmean[r'$d$']=d\n",
    "        for rho in rhos:\n",
    "            t_cp[r'$\\rho$']=t_npmean[r'$\\rho$']=rho\n",
    "            m1=0\n",
    "            m2=0\n",
    "            for j in tqdm(range(num_runs)):\n",
    "                npm,pm=experiment(j,d,50000,dt,rho)\n",
    "                m1=m1+npm/num_runs\n",
    "                m2=m2+pm/num_runs\n",
    "            # res=np.array(results)\n",
    "            # means=np.mean(res,axis=0)\n",
    "            print('dist ',dt,', d', d,', rho, ',rho,', mean ',m1,' ',m2)\n",
    "            t_cp['MSE']=m2\n",
    "            t_npmean['MSE']=m1\n",
    "            rows.append(t_cp.copy())\n",
    "            rows.append(t_npmean.copy())"
   ]
  },
  {
   "cell_type": "code",
   "execution_count": 5,
   "id": "bb564971",
   "metadata": {},
   "outputs": [
    {
     "data": {
      "text/html": [
       "<div>\n",
       "<style scoped>\n",
       "    .dataframe tbody tr th:only-of-type {\n",
       "        vertical-align: middle;\n",
       "    }\n",
       "\n",
       "    .dataframe tbody tr th {\n",
       "        vertical-align: top;\n",
       "    }\n",
       "\n",
       "    .dataframe thead th {\n",
       "        text-align: right;\n",
       "    }\n",
       "</style>\n",
       "<table border=\"1\" class=\"dataframe\">\n",
       "  <thead>\n",
       "    <tr style=\"text-align: right;\">\n",
       "      <th></th>\n",
       "      <th>MSE</th>\n",
       "      <th>Estimator</th>\n",
       "      <th>$\\rho$</th>\n",
       "      <th>Dist</th>\n",
       "      <th>$d$</th>\n",
       "    </tr>\n",
       "  </thead>\n",
       "  <tbody>\n",
       "    <tr>\n",
       "      <th>0</th>\n",
       "      <td>0.000116</td>\n",
       "      <td>Priv. Mean</td>\n",
       "      <td>0.135450</td>\n",
       "      <td>clean</td>\n",
       "      <td>2</td>\n",
       "    </tr>\n",
       "    <tr>\n",
       "      <th>1</th>\n",
       "      <td>0.000049</td>\n",
       "      <td>Non-Priv. Mean</td>\n",
       "      <td>0.135450</td>\n",
       "      <td>clean</td>\n",
       "      <td>2</td>\n",
       "    </tr>\n",
       "    <tr>\n",
       "      <th>2</th>\n",
       "      <td>0.000048</td>\n",
       "      <td>Priv. Mean</td>\n",
       "      <td>0.666457</td>\n",
       "      <td>clean</td>\n",
       "      <td>2</td>\n",
       "    </tr>\n",
       "    <tr>\n",
       "      <th>3</th>\n",
       "      <td>0.000049</td>\n",
       "      <td>Non-Priv. Mean</td>\n",
       "      <td>0.666457</td>\n",
       "      <td>clean</td>\n",
       "      <td>2</td>\n",
       "    </tr>\n",
       "    <tr>\n",
       "      <th>4</th>\n",
       "      <td>0.000049</td>\n",
       "      <td>Priv. Mean</td>\n",
       "      <td>2.098020</td>\n",
       "      <td>clean</td>\n",
       "      <td>2</td>\n",
       "    </tr>\n",
       "  </tbody>\n",
       "</table>\n",
       "</div>"
      ],
      "text/plain": [
       "        MSE       Estimator    $\\rho$   Dist  $d$\n",
       "0  0.000116      Priv. Mean  0.135450  clean    2\n",
       "1  0.000049  Non-Priv. Mean  0.135450  clean    2\n",
       "2  0.000048      Priv. Mean  0.666457  clean    2\n",
       "3  0.000049  Non-Priv. Mean  0.666457  clean    2\n",
       "4  0.000049      Priv. Mean  2.098020  clean    2"
      ]
     },
     "execution_count": 5,
     "metadata": {},
     "output_type": "execute_result"
    }
   ],
   "source": [
    "mse_df=pd.DataFrame(rows)\n",
    "mse_df.head()"
   ]
  },
  {
   "cell_type": "code",
   "execution_count": 6,
   "id": "4bdd333a",
   "metadata": {},
   "outputs": [],
   "source": [
    "clean=mse_df[mse_df['Dist']==\"clean\"]"
   ]
  },
  {
   "cell_type": "code",
   "execution_count": 7,
   "id": "4736af07",
   "metadata": {},
   "outputs": [
    {
     "data": {
      "text/plain": [
       "<Axes: xlabel='$d$', ylabel='MSE'>"
      ]
     },
     "execution_count": 7,
     "metadata": {},
     "output_type": "execute_result"
    },
    {
     "data": {
      "image/png": "[encoded data removed]",
      "text/plain": [
       "<Figure size 640x480 with 1 Axes>"
      ]
     },
     "metadata": {},
     "output_type": "display_data"
    }
   ],
   "source": [
    "clean\n",
    "\n",
    "sns.lineplot(x=r'$d$',y=\"MSE\",hue=\"Estimator\",style=r'$\\rho$',data=clean)"
   ]
  },
  {
   "cell_type": "code",
   "execution_count": 8,
   "id": "0fc4f6ac",
   "metadata": {},
   "outputs": [
    {
     "data": {
      "text/html": [
       "<div>\n",
       "<style scoped>\n",
       "    .dataframe tbody tr th:only-of-type {\n",
       "        vertical-align: middle;\n",
       "    }\n",
       "\n",
       "    .dataframe tbody tr th {\n",
       "        vertical-align: top;\n",
       "    }\n",
       "\n",
       "    .dataframe thead th {\n",
       "        text-align: right;\n",
       "    }\n",
       "</style>\n",
       "<table border=\"1\" class=\"dataframe\">\n",
       "  <thead>\n",
       "    <tr style=\"text-align: right;\">\n",
       "      <th></th>\n",
       "      <th>MSE</th>\n",
       "      <th>Estimator</th>\n",
       "      <th>$\\rho$</th>\n",
       "      <th>Dist</th>\n",
       "      <th>$d$</th>\n",
       "    </tr>\n",
       "  </thead>\n",
       "  <tbody>\n",
       "    <tr>\n",
       "      <th>36</th>\n",
       "      <td>0.010172</td>\n",
       "      <td>Priv. Mean</td>\n",
       "      <td>0.135450</td>\n",
       "      <td>heavy</td>\n",
       "      <td>2</td>\n",
       "    </tr>\n",
       "    <tr>\n",
       "      <th>37</th>\n",
       "      <td>951.806250</td>\n",
       "      <td>Non-Priv. Mean</td>\n",
       "      <td>0.135450</td>\n",
       "      <td>heavy</td>\n",
       "      <td>2</td>\n",
       "    </tr>\n",
       "    <tr>\n",
       "      <th>38</th>\n",
       "      <td>0.004201</td>\n",
       "      <td>Priv. Mean</td>\n",
       "      <td>0.666457</td>\n",
       "      <td>heavy</td>\n",
       "      <td>2</td>\n",
       "    </tr>\n",
       "    <tr>\n",
       "      <th>39</th>\n",
       "      <td>951.806250</td>\n",
       "      <td>Non-Priv. Mean</td>\n",
       "      <td>0.666457</td>\n",
       "      <td>heavy</td>\n",
       "      <td>2</td>\n",
       "    </tr>\n",
       "    <tr>\n",
       "      <th>40</th>\n",
       "      <td>0.003739</td>\n",
       "      <td>Priv. Mean</td>\n",
       "      <td>2.098020</td>\n",
       "      <td>heavy</td>\n",
       "      <td>2</td>\n",
       "    </tr>\n",
       "    <tr>\n",
       "      <th>41</th>\n",
       "      <td>951.806250</td>\n",
       "      <td>Non-Priv. Mean</td>\n",
       "      <td>2.098020</td>\n",
       "      <td>heavy</td>\n",
       "      <td>2</td>\n",
       "    </tr>\n",
       "    <tr>\n",
       "      <th>42</th>\n",
       "      <td>0.038500</td>\n",
       "      <td>Priv. Mean</td>\n",
       "      <td>0.135450</td>\n",
       "      <td>heavy</td>\n",
       "      <td>10</td>\n",
       "    </tr>\n",
       "    <tr>\n",
       "      <th>43</th>\n",
       "      <td>26350.290737</td>\n",
       "      <td>Non-Priv. Mean</td>\n",
       "      <td>0.135450</td>\n",
       "      <td>heavy</td>\n",
       "      <td>10</td>\n",
       "    </tr>\n",
       "    <tr>\n",
       "      <th>44</th>\n",
       "      <td>0.016313</td>\n",
       "      <td>Priv. Mean</td>\n",
       "      <td>0.666457</td>\n",
       "      <td>heavy</td>\n",
       "      <td>10</td>\n",
       "    </tr>\n",
       "    <tr>\n",
       "      <th>45</th>\n",
       "      <td>26350.290737</td>\n",
       "      <td>Non-Priv. Mean</td>\n",
       "      <td>0.666457</td>\n",
       "      <td>heavy</td>\n",
       "      <td>10</td>\n",
       "    </tr>\n",
       "    <tr>\n",
       "      <th>46</th>\n",
       "      <td>0.010921</td>\n",
       "      <td>Priv. Mean</td>\n",
       "      <td>2.098020</td>\n",
       "      <td>heavy</td>\n",
       "      <td>10</td>\n",
       "    </tr>\n",
       "    <tr>\n",
       "      <th>47</th>\n",
       "      <td>26350.290737</td>\n",
       "      <td>Non-Priv. Mean</td>\n",
       "      <td>2.098020</td>\n",
       "      <td>heavy</td>\n",
       "      <td>10</td>\n",
       "    </tr>\n",
       "    <tr>\n",
       "      <th>48</th>\n",
       "      <td>1.375103</td>\n",
       "      <td>Priv. Mean</td>\n",
       "      <td>0.135450</td>\n",
       "      <td>heavy</td>\n",
       "      <td>20</td>\n",
       "    </tr>\n",
       "    <tr>\n",
       "      <th>49</th>\n",
       "      <td>49906.233833</td>\n",
       "      <td>Non-Priv. Mean</td>\n",
       "      <td>0.135450</td>\n",
       "      <td>heavy</td>\n",
       "      <td>20</td>\n",
       "    </tr>\n",
       "    <tr>\n",
       "      <th>50</th>\n",
       "      <td>0.033135</td>\n",
       "      <td>Priv. Mean</td>\n",
       "      <td>0.666457</td>\n",
       "      <td>heavy</td>\n",
       "      <td>20</td>\n",
       "    </tr>\n",
       "    <tr>\n",
       "      <th>51</th>\n",
       "      <td>49906.233833</td>\n",
       "      <td>Non-Priv. Mean</td>\n",
       "      <td>0.666457</td>\n",
       "      <td>heavy</td>\n",
       "      <td>20</td>\n",
       "    </tr>\n",
       "    <tr>\n",
       "      <th>52</th>\n",
       "      <td>0.019200</td>\n",
       "      <td>Priv. Mean</td>\n",
       "      <td>2.098020</td>\n",
       "      <td>heavy</td>\n",
       "      <td>20</td>\n",
       "    </tr>\n",
       "    <tr>\n",
       "      <th>53</th>\n",
       "      <td>49906.233833</td>\n",
       "      <td>Non-Priv. Mean</td>\n",
       "      <td>2.098020</td>\n",
       "      <td>heavy</td>\n",
       "      <td>20</td>\n",
       "    </tr>\n",
       "  </tbody>\n",
       "</table>\n",
       "</div>"
      ],
      "text/plain": [
       "             MSE       Estimator    $\\rho$   Dist  $d$\n",
       "36      0.010172      Priv. Mean  0.135450  heavy    2\n",
       "37    951.806250  Non-Priv. Mean  0.135450  heavy    2\n",
       "38      0.004201      Priv. Mean  0.666457  heavy    2\n",
       "39    951.806250  Non-Priv. Mean  0.666457  heavy    2\n",
       "40      0.003739      Priv. Mean  2.098020  heavy    2\n",
       "41    951.806250  Non-Priv. Mean  2.098020  heavy    2\n",
       "42      0.038500      Priv. Mean  0.135450  heavy   10\n",
       "43  26350.290737  Non-Priv. Mean  0.135450  heavy   10\n",
       "44      0.016313      Priv. Mean  0.666457  heavy   10\n",
       "45  26350.290737  Non-Priv. Mean  0.666457  heavy   10\n",
       "46      0.010921      Priv. Mean  2.098020  heavy   10\n",
       "47  26350.290737  Non-Priv. Mean  2.098020  heavy   10\n",
       "48      1.375103      Priv. Mean  0.135450  heavy   20\n",
       "49  49906.233833  Non-Priv. Mean  0.135450  heavy   20\n",
       "50      0.033135      Priv. Mean  0.666457  heavy   20\n",
       "51  49906.233833  Non-Priv. Mean  0.666457  heavy   20\n",
       "52      0.019200      Priv. Mean  2.098020  heavy   20\n",
       "53  49906.233833  Non-Priv. Mean  2.098020  heavy   20"
      ]
     },
     "execution_count": 8,
     "metadata": {},
     "output_type": "execute_result"
    }
   ],
   "source": [
    "mse_df[mse_df['Dist']==\"heavy\"]"
   ]
  },
  {
   "cell_type": "code",
   "execution_count": 9,
   "id": "a07a149a",
   "metadata": {},
   "outputs": [
    {
     "data": {
      "text/plain": [
       "<Axes: xlabel='$d$', ylabel='MSE'>"
      ]
     },
     "execution_count": 9,
     "metadata": {},
     "output_type": "execute_result"
    },
    {
     "data": {
      "image/png": "[encoded data removed]",
      "text/plain": [
       "<Figure size 640x480 with 1 Axes>"
      ]
     },
     "metadata": {},
     "output_type": "display_data"
    }
   ],
   "source": [
    "con=mse_df[mse_df['Dist']==\"con\"]\n",
    "sns.lineplot(x=r'$d$',y=\"MSE\",hue=\"Estimator\",style=r'$\\rho$',data=con)"
   ]
  },
  {
   "cell_type": "code",
   "execution_count": 10,
   "id": "e5d52f93",
   "metadata": {},
   "outputs": [
    {
     "data": {
      "text/plain": [
       "array([0.13545 , 0.666457, 2.09802 ])"
      ]
     },
     "execution_count": 10,
     "metadata": {},
     "output_type": "execute_result"
    }
   ],
   "source": [
    "vals=mse_df[r'$\\rho$'].unique()\n",
    "vals\n"
   ]
  },
  {
   "cell_type": "code",
   "execution_count": 11,
   "id": "def7b1e1",
   "metadata": {},
   "outputs": [],
   "source": [
    "\n",
    "def conv(a):\n",
    "    if a==vals[0]:\n",
    "        return 2\n",
    "    elif a==vals[1]:\n",
    "        return 5\n",
    "    else:\n",
    "        return 10\n",
    "mse_df2=mse_df\n",
    "mse_df[r'$\\epsilon$']=mse_df[r'$\\rho$'].apply(conv)"
   ]
  },
  {
   "cell_type": "code",
   "execution_count": 12,
   "id": "e25612e9",
   "metadata": {},
   "outputs": [
    {
     "data": {
      "text/html": [
       "<div>\n",
       "<style scoped>\n",
       "    .dataframe tbody tr th:only-of-type {\n",
       "        vertical-align: middle;\n",
       "    }\n",
       "\n",
       "    .dataframe tbody tr th {\n",
       "        vertical-align: top;\n",
       "    }\n",
       "\n",
       "    .dataframe thead th {\n",
       "        text-align: right;\n",
       "    }\n",
       "</style>\n",
       "<table border=\"1\" class=\"dataframe\">\n",
       "  <thead>\n",
       "    <tr style=\"text-align: right;\">\n",
       "      <th></th>\n",
       "      <th>MSE</th>\n",
       "      <th>Estimator</th>\n",
       "      <th>Dist</th>\n",
       "      <th>$d$</th>\n",
       "      <th>$\\epsilon$</th>\n",
       "    </tr>\n",
       "  </thead>\n",
       "  <tbody>\n",
       "    <tr>\n",
       "      <th>0</th>\n",
       "      <td>0.000116</td>\n",
       "      <td>Priv. Mean</td>\n",
       "      <td>clean</td>\n",
       "      <td>2</td>\n",
       "      <td>2</td>\n",
       "    </tr>\n",
       "    <tr>\n",
       "      <th>1</th>\n",
       "      <td>0.000049</td>\n",
       "      <td>Non-Priv. Mean</td>\n",
       "      <td>clean</td>\n",
       "      <td>2</td>\n",
       "      <td>2</td>\n",
       "    </tr>\n",
       "    <tr>\n",
       "      <th>2</th>\n",
       "      <td>0.000048</td>\n",
       "      <td>Priv. Mean</td>\n",
       "      <td>clean</td>\n",
       "      <td>2</td>\n",
       "      <td>5</td>\n",
       "    </tr>\n",
       "    <tr>\n",
       "      <th>3</th>\n",
       "      <td>0.000049</td>\n",
       "      <td>Non-Priv. Mean</td>\n",
       "      <td>clean</td>\n",
       "      <td>2</td>\n",
       "      <td>5</td>\n",
       "    </tr>\n",
       "    <tr>\n",
       "      <th>4</th>\n",
       "      <td>0.000049</td>\n",
       "      <td>Priv. Mean</td>\n",
       "      <td>clean</td>\n",
       "      <td>2</td>\n",
       "      <td>10</td>\n",
       "    </tr>\n",
       "  </tbody>\n",
       "</table>\n",
       "</div>"
      ],
      "text/plain": [
       "        MSE       Estimator   Dist  $d$  $\\epsilon$\n",
       "0  0.000116      Priv. Mean  clean    2           2\n",
       "1  0.000049  Non-Priv. Mean  clean    2           2\n",
       "2  0.000048      Priv. Mean  clean    2           5\n",
       "3  0.000049  Non-Priv. Mean  clean    2           5\n",
       "4  0.000049      Priv. Mean  clean    2          10"
      ]
     },
     "execution_count": 12,
     "metadata": {},
     "output_type": "execute_result"
    }
   ],
   "source": [
    "# mse_df2.columns\n",
    "mse_df2=mse_df.drop(r'$\\rho$',axis=1)\n",
    "mse_df2.head()"
   ]
  },
  {
   "cell_type": "code",
   "execution_count": 13,
   "id": "b56f5a83",
   "metadata": {},
   "outputs": [],
   "source": [
    "\n",
    "mse_df2.to_pickle('means_df.pkl')"
   ]
  },
  {
   "cell_type": "code",
   "execution_count": null,
   "id": "8aa10be8",
   "metadata": {},
   "outputs": [],
   "source": []
  }
 ],
 "metadata": {
  "kernelspec": {
   "display_name": "Python 3",
   "language": "python",
   "name": "python3"
  },
  "language_info": {
   "codemirror_mode": {
    "name": "ipython",
    "version": 3
   },
   "file_extension": ".py",
   "mimetype": "text/x-python",
   "name": "python",
   "nbconvert_exporter": "python",
   "pygments_lexer": "ipython3",
   "version": "3.12.3"
  }
 },
 "nbformat": 4,
 "nbformat_minor": 5
}
