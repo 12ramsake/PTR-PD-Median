{
 "cells": [
  {
   "cell_type": "code",
   "execution_count": 4,
   "id": "8a8ba66a",
   "metadata": {},
   "outputs": [
    {
     "name": "stderr",
     "output_type": "stream",
     "text": [
      "/tmp/ipykernel_3631458/1433574395.py:14: MatplotlibDeprecationWarning: The get_cmap function was deprecated in Matplotlib 3.7 and will be removed in 3.11. Use ``matplotlib.colormaps[name]`` or ``matplotlib.colormaps.get_cmap()`` or ``pyplot.get_cmap()`` instead.\n",
      "  viridis = cm.get_cmap('viridis', 8)\n"
     ]
    }
   ],
   "source": [
    "import numpy as np\n",
    "from mtalg.random import MultithreadedRNG\n",
    "import pickle\n",
    "from tqdm import tqdm\n",
    "import scipy\n",
    "import cupy as cp\n",
    "# import torch\n",
    "import matplotlib.pyplot as plt\n",
    "from matplotlib import cm\n",
    "from scipy.stats import multivariate_t\n",
    "# import Other_Mean_Algs as OMA\n",
    "import PD_Median_Functions_opt_for_sims\n",
    "\n",
    "viridis = cm.get_cmap('viridis', 8)"
   ]
  },
  {
   "cell_type": "code",
   "execution_count": 5,
   "id": "4fb9d903",
   "metadata": {},
   "outputs": [
    {
     "name": "stderr",
     "output_type": "stream",
     "text": [
      "100%|██████████| 50/50 [00:01<00:00, 26.24it/s]\n",
      "100%|██████████| 3/3 [00:03<00:00,  1.25s/it]\n",
      "100%|██████████| 3/3 [00:00<00:00, 10.28it/s]\n"
     ]
    }
   ],
   "source": [
    "########### Generate the datasets, unit vectors for the PD median\n",
    "# ##  and starting values for the MCMC/GD and save in folders\n",
    "########## This is useful for reproducibility and makes the code slightly faster\n",
    "#Number of runs in the experiment\n",
    "num_runs=50\n",
    "#maximum dimension analysed\n",
    "d=20\n",
    "#sample size\n",
    "ndata=50000\n",
    "#portion of data contaminated\n",
    "con_level=0.25\n",
    "\n",
    "\n",
    "##### First generate the datasets and pickle them #####\n",
    "# Build a contaminating matrix to add to data to create contaminated datasets\n",
    "#number of observations contaminated\n",
    "total=int(con_level*ndata)\n",
    "# matrix of 5s with total rows\n",
    "mean_contam=np.full((total,d),5)\n",
    "# matrix of 0s with n-total rows\n",
    "mean_clean=np.full((ndata-total,d),0)\n",
    "# n x d matrix with con_level of rows equal to 5, the rest 0\n",
    "contam_mat=np.vstack([mean_contam,mean_clean])\n",
    "\n",
    "# This allows us to set the seed with the mtalg package\n",
    "mrng = MultithreadedRNG(seed=421, num_threads=10)\n",
    "\n",
    "#generate the data and write to files\n",
    "for run in tqdm(range(num_runs)):\n",
    "    #the clean dataset\n",
    "    data_clean=mrng.standard_normal(size=(ndata,d))\n",
    "    #add contamination matrix\n",
    "    data_con=data_clean+contam_mat\n",
    "    #now pickle it for reloading later\n",
    "    #pickle 1\n",
    "    fn=\"data/data_set_clean_\"+str(run)+\".pickle\"\n",
    "    with open(fn,\"wb\") as file:\n",
    "        pickle.dump(data_clean,file)\n",
    "    #pickle 2\n",
    "    fn=\"data/data_set_con_\"+str(run)+\".pickle\"\n",
    "    with open(fn,\"wb\") as file:\n",
    "        pickle.dump(data_con,file)\n",
    "\n",
    "\n",
    "##### Second generate the unit vectors to be used ##### \n",
    "#number of unit vectors\n",
    "nvec=1000\n",
    "#dimensions in the experiment\n",
    "dimensions=[2,10,20]\n",
    "\n",
    "# This allows us to set the seed with the mtalg package\n",
    "mrng = MultithreadedRNG(seed=422, num_threads=10)\n",
    "# Generate unit vectors and save them for later\n",
    "for d in tqdm(dimensions):\n",
    "    for run in range(num_runs):\n",
    "        unit_vectors=mrng.standard_normal(size=(nvec,d))\n",
    "        for i in range(0,nvec):\n",
    "            unit_vectors[i,:]=unit_vectors[i,:]/np.linalg.norm(unit_vectors[i,:])\n",
    "    #now pickle it for reloading\n",
    "        fn=\"unit_vectors/unit_vectors_dimension_\"+str(d)+\"_run_\"+str(run)+\".pickle\"\n",
    "        with open(fn,\"wb\") as file:\n",
    "            pickle.dump(unit_vectors,file)\n",
    "\n",
    "\n",
    "\n",
    "#### Third generate the starting values for langevin and gradient descent #### \n",
    "\n",
    "mrng = MultithreadedRNG(seed=423, num_threads=10)\n",
    "# generate uv and save them for later\n",
    "for d in tqdm(dimensions):\n",
    "    for run in range(num_runs):\n",
    "        start=mrng.standard_normal(size=d)\n",
    "    # now pickle it for reloading\n",
    "        fn=\"starting/starting_dimension_\"+str(d)+\"_run_\"+str(run)+\".pickle\"\n",
    "        with open(fn,\"wb\") as file:\n",
    "            pickle.dump(start,file)\n",
    "\n",
    "\n"
   ]
  },
  {
   "cell_type": "code",
   "execution_count": 6,
   "id": "e3b2970e",
   "metadata": {},
   "outputs": [
    {
     "name": "stderr",
     "output_type": "stream",
     "text": [
      "100%|██████████| 50/50 [00:02<00:00, 22.28it/s]\n"
     ]
    }
   ],
   "source": [
    "########### Generate the datasets, unit vectors for the PD median\n",
    "# ##  and starting values for the MCMC/GD and save in folders\n",
    "########## This is useful for reproducibility and makes the code slightly faster\n",
    "#Number of runs in the experiment\n",
    "num_runs=50\n",
    "# maximum dimension analysed\n",
    "d=20\n",
    "# sample size\n",
    "ndata=50000\n",
    "\n",
    "\n",
    "##### First generate the datasets and pickle them #####\n",
    "\n",
    "# This allows us to set the seed with the mtalg package\n",
    "mrng = MultithreadedRNG(seed=421, num_threads=10)\n",
    "\n",
    "#generate the data and write to files\n",
    "for run in tqdm(range(num_runs)):\n",
    "    mean = np.full(d,0)    # location\n",
    "    cov = np.identity(d)  # scale matrix\n",
    "    data_clean=multivariate_t.rvs(loc=mean, shape=cov, df=1, size=ndata, random_state=421)\n",
    "    #now pickle it for reloading later\n",
    "    #pickle 1\n",
    "    fn=\"data/data_set_heavy_\"+str(run)+\".pickle\"\n",
    "    with open(fn,\"wb\") as file:\n",
    "        pickle.dump(data_clean,file)\n",
    "\n"
   ]
  },
  {
   "cell_type": "code",
   "execution_count": null,
   "id": "e1c33d5e",
   "metadata": {},
   "outputs": [],
   "source": []
  },
  {
   "cell_type": "code",
   "execution_count": null,
   "id": "0ce9f186-d514-43ec-8d00-88e9969f66ee",
   "metadata": {},
   "outputs": [],
   "source": []
  }
 ],
 "metadata": {
  "kernelspec": {
   "display_name": "Python 3.11",
   "language": "python",
   "name": "python3"
  },
  "language_info": {
   "codemirror_mode": {
    "name": "ipython",
    "version": 3
   },
   "file_extension": ".py",
   "mimetype": "text/x-python",
   "name": "python",
   "nbconvert_exporter": "python",
   "pygments_lexer": "ipython3",
   "version": "3.11.5"
  }
 },
 "nbformat": 4,
 "nbformat_minor": 5
}
